{
 "cells": [
  {
   "cell_type": "code",
   "execution_count": 1,
   "id": "motivated-happiness",
   "metadata": {},
   "outputs": [],
   "source": [
    "import pandas as pd\n",
    "import numpy as np\n",
    "from math import sqrt\n",
    "\n",
    "from sklearn.model_selection import train_test_split, GridSearchCV, RandomizedSearchCV, validation_curve, learning_curve\n",
    "from sklearn.model_selection import StratifiedShuffleSplit, StratifiedKFold, cross_validate\n",
    "\n",
    "# For result evaluation\n",
    "from sklearn.metrics import explained_variance_score, max_error, mean_absolute_error, mean_squared_error, median_absolute_error, r2_score, mean_absolute_percentage_error\n",
    "\n",
    "from sklearn.linear_model import LinearRegression, SGDRegressor, LogisticRegression, Lasso, ElasticNet, Ridge\n",
    "from sklearn.svm import SVR\n",
    "from sklearn.ensemble import RandomForestRegressor"
   ]
  },
  {
   "cell_type": "code",
   "execution_count": 2,
   "id": "nutritional-salem",
   "metadata": {},
   "outputs": [],
   "source": [
    "# Load processed data\n",
    "df_processed = pd.read_pickle('./processed_data_scaled.p')\n",
    "# df_singa_airbnb = pd.read_csv('listings.csv')\n",
    "\n",
    "col_train = [x for x in df_processed.columns if x not in ['name', 'host_name', 'last_review', 'last_review_date', 'price', 'id', 'host_name', 'host_id', 'last_review_year', 'last_review_month', 'last_review_week', 'last_review_day', 'last_review_dayofweek']]"
   ]
  },
  {
   "cell_type": "code",
   "execution_count": 3,
   "id": "bulgarian-republic",
   "metadata": {},
   "outputs": [],
   "source": [
    "X = df_processed[col_train].values\n",
    "y = df_processed['price'].values"
   ]
  },
  {
   "cell_type": "code",
   "execution_count": 4,
   "id": "superb-bridge",
   "metadata": {},
   "outputs": [],
   "source": [
    "random_state = 0"
   ]
  },
  {
   "cell_type": "code",
   "execution_count": 5,
   "id": "resistant-blood",
   "metadata": {},
   "outputs": [],
   "source": [
    "x_train, x_test, y_train, y_test = train_test_split(X, y, test_size=0.2, random_state=random_state)"
   ]
  },
  {
   "cell_type": "code",
   "execution_count": 6,
   "id": "running-winning",
   "metadata": {},
   "outputs": [],
   "source": [
    "# https://scikit-learn.org/stable/modules/model_evaluation.html\n",
    "def print_regression_scores(clf, x_train, y_train, x_test, y_test, display = 1, cv = 10):\n",
    "    \n",
    "    dict_result = {}\n",
    "    cross_val = StratifiedShuffleSplit(n_splits = cv, random_state=random_state)\n",
    "\n",
    "    for name, feat, tar in [(\"TRAIN set\", x_train, y_train), (\"TEST set\", x_test, y_test)]:\n",
    "        explained_variance = explained_variance_score(tar, clf.predict(feat))\n",
    "        max_err = max_error(tar, clf.predict(feat))\n",
    "        mean_absolute_err = mean_absolute_error(tar, clf.predict(feat))\n",
    "        root_mean_squared_err = sqrt(mean_squared_error(tar, clf.predict(feat)))\n",
    "        median_absolute_err = median_absolute_error(tar, clf.predict(feat))\n",
    "        r2 = r2_score(tar, clf.predict(feat))\n",
    "        mean_absolute_percentage_err = mean_absolute_percentage_error(tar, clf.predict(feat))\n",
    "               \n",
    "        if display == 1:\n",
    "            print(\"{} explained variance score: \".format(name), explained_variance)\n",
    "            print(\"{} max error: \".format(name), max_err)\n",
    "            print(\"{} mean absolute error: \".format(name), mean_absolute_err)\n",
    "            print(\"{} root mean squared error: \".format(name), root_mean_squared_err)\n",
    "            print(\"{} median absolute error: \".format(name), median_absolute_err)\n",
    "            print(\"{} r2 score: \".format(name), r2)\n",
    "            \n",
    "            \n",
    "            print(\"{} mean_absolute percentage error : \".format(name), mean_absolute_percentage_err, end = '\\n\\n')\n",
    "        \n",
    "        dict_result[name] = [explained_variance, max_err, mean_absolute_err, root_mean_squared_err, median_absolute_err, r2, mean_absolute_percentage_err]\n",
    "        \n",
    "    return dict_result"
   ]
  },
  {
   "cell_type": "code",
   "execution_count": 7,
   "id": "sealed-minister",
   "metadata": {},
   "outputs": [],
   "source": [
    "# def print_classification_scores(clf, x_train, y_train, x_test, y_test, display = 1, cv = 10):\n",
    "    \n",
    "#     dict_result = {}\n",
    "#     cross_val = StratifiedShuffleSplit(n_splits = cv, random_state=random_state)\n",
    "\n",
    "#     for name, feat, tar in [(\"TRAIN set\", x_train, y_train), (\"TEST set\", x_test, y_test)]:\n",
    "#         f1_macro = f1_score(tar, clf.predict(feat), average = 'macro')\n",
    "#         recall_macro = recall_score(tar, clf.predict(feat), average = 'macro')\n",
    "#         precision_macro = precision_score(tar, clf.predict(feat), average = 'macro')\n",
    "#         balanced_accuracy = balanced_accuracy_score(tar, clf.predict(feat))\n",
    "               \n",
    "#         if display == 1:\n",
    "#             print(\"{} balanced_accuracy score: \".format(name), balanced_accuracy)\n",
    "#             print(\"{} recall score: \".format(name), recall_macro)\n",
    "#             print(\"{} precision score: \".format(name), precision_macro)\n",
    "#             print(\"{} f1_macro score: \".format(name), f1_macro, end = '\\n\\n')\n",
    "        \n",
    "#         dict_result[name] = [balanced_accuracy, recall_macro, precision_macro, f1_macro]\n",
    "        \n",
    "#     return dict_result"
   ]
  },
  {
   "cell_type": "markdown",
   "id": "posted-immunology",
   "metadata": {},
   "source": [
    "### 1. Linear regression"
   ]
  },
  {
   "cell_type": "code",
   "execution_count": 8,
   "id": "moved-librarian",
   "metadata": {},
   "outputs": [
    {
     "data": {
      "text/plain": [
       "0.42271188574251706"
      ]
     },
     "execution_count": 8,
     "metadata": {},
     "output_type": "execute_result"
    }
   ],
   "source": [
    "lr = LinearRegression()\n",
    "\n",
    "reg = lr.fit(x_train,y_train)\n",
    "reg.score(x_test, y_test)"
   ]
  },
  {
   "cell_type": "code",
   "execution_count": 9,
   "id": "civic-service",
   "metadata": {},
   "outputs": [
    {
     "name": "stdout",
     "output_type": "stream",
     "text": [
      "TRAIN set explained variance score:  0.4266940658067121\n",
      "TRAIN set max error:  458.36021637206056\n",
      "TRAIN set mean absolute error:  52.47122954762088\n",
      "TRAIN set root mean squared error:  70.43651843986052\n",
      "TRAIN set median absolute error:  42.38500413062427\n",
      "TRAIN set r2 score:  0.426694065806712\n",
      "TRAIN set mean_absolute percentage error :  162393847407784.06\n",
      "\n",
      "TEST set explained variance score:  0.4231560304384261\n",
      "TEST set max error:  349.2675590763726\n",
      "TEST set mean absolute error:  52.16358264524778\n",
      "TEST set root mean squared error:  69.8153060675741\n",
      "TEST set median absolute error:  41.67061030080899\n",
      "TEST set r2 score:  0.42271188574251706\n",
      "TEST set mean_absolute percentage error :  0.48857349596781613\n",
      "\n"
     ]
    }
   ],
   "source": [
    "dict_score = print_regression_scores(lr, x_train, y_train, x_test, y_test)"
   ]
  },
  {
   "cell_type": "markdown",
   "id": "brave-deadline",
   "metadata": {},
   "source": [
    "### 2. Lasso"
   ]
  },
  {
   "cell_type": "code",
   "execution_count": 12,
   "id": "active-thermal",
   "metadata": {},
   "outputs": [
    {
     "data": {
      "text/plain": [
       "0.40943192358818326"
      ]
     },
     "execution_count": 12,
     "metadata": {},
     "output_type": "execute_result"
    }
   ],
   "source": [
    "ls = Lasso()\n",
    "ls_reg = ls.fit(x_train,y_train)\n",
    "ls_reg.score(x_test, y_test)"
   ]
  },
  {
   "cell_type": "code",
   "execution_count": 14,
   "id": "banner-bibliography",
   "metadata": {},
   "outputs": [
    {
     "name": "stdout",
     "output_type": "stream",
     "text": [
      "TRAIN set explained variance score:  0.3875767288816402\n",
      "TRAIN set max error:  462.3266299094923\n",
      "TRAIN set mean absolute error:  54.17010993065625\n",
      "TRAIN set root mean squared error:  72.79985348081297\n",
      "TRAIN set median absolute error:  43.90136310550511\n",
      "TRAIN set r2 score:  0.3875767288816402\n",
      "TRAIN set mean_absolute percentage error :  148797716868153.4\n",
      "\n",
      "TEST set explained variance score:  0.40998732666217785\n",
      "TEST set max error:  329.6670618585535\n",
      "TEST set mean absolute error:  52.7390627808669\n",
      "TEST set root mean squared error:  70.61375751798226\n",
      "TEST set median absolute error:  42.42623359519371\n",
      "TEST set r2 score:  0.40943192358818326\n",
      "TEST set mean_absolute percentage error :  0.4941572553461187\n",
      "\n"
     ]
    }
   ],
   "source": [
    "dict_score = print_regression_scores(ls, x_train, y_train, x_test, y_test)"
   ]
  },
  {
   "cell_type": "markdown",
   "id": "legitimate-young",
   "metadata": {},
   "source": [
    "### 3. ElasticNet"
   ]
  },
  {
   "cell_type": "code",
   "execution_count": 15,
   "id": "intimate-treatment",
   "metadata": {},
   "outputs": [
    {
     "data": {
      "text/plain": [
       "0.26400547900467786"
      ]
     },
     "execution_count": 15,
     "metadata": {},
     "output_type": "execute_result"
    }
   ],
   "source": [
    "em = ElasticNet()\n",
    "em_reg = em.fit(x_train,y_train)\n",
    "em_reg.score(x_test, y_test)"
   ]
  },
  {
   "cell_type": "code",
   "execution_count": 16,
   "id": "existing-scheme",
   "metadata": {},
   "outputs": [
    {
     "name": "stdout",
     "output_type": "stream",
     "text": [
      "TRAIN set explained variance score:  0.2555559963620111\n",
      "TRAIN set max error:  393.86834657717407\n",
      "TRAIN set mean absolute error:  62.01428942843103\n",
      "TRAIN set root mean squared error:  80.26397812359083\n",
      "TRAIN set median absolute error:  52.5176671524987\n",
      "TRAIN set r2 score:  0.255555996362011\n",
      "TRAIN set mean_absolute percentage error :  122330859382428.44\n",
      "\n",
      "TEST set explained variance score:  0.26430715378123304\n",
      "TEST set max error:  334.9733515116078\n",
      "TEST set mean absolute error:  61.02098632647356\n",
      "TEST set root mean squared error:  78.83001858948364\n",
      "TEST set median absolute error:  53.085647766645565\n",
      "TEST set r2 score:  0.26400547900467786\n",
      "TEST set mean_absolute percentage error :  0.683143109512785\n",
      "\n"
     ]
    }
   ],
   "source": [
    "dict_score = print_regression_scores(em, x_train, y_train, x_test, y_test)"
   ]
  },
  {
   "cell_type": "markdown",
   "id": "necessary-oklahoma",
   "metadata": {},
   "source": [
    "### 4. Ridge"
   ]
  },
  {
   "cell_type": "code",
   "execution_count": 17,
   "id": "controlling-night",
   "metadata": {},
   "outputs": [
    {
     "data": {
      "text/plain": [
       "0.42390787687287623"
      ]
     },
     "execution_count": 17,
     "metadata": {},
     "output_type": "execute_result"
    }
   ],
   "source": [
    "rm = Ridge()\n",
    "rm_reg = rm.fit(x_train,y_train)\n",
    "rm_reg.score(x_test, y_test)"
   ]
  },
  {
   "cell_type": "code",
   "execution_count": 19,
   "id": "alert-officer",
   "metadata": {},
   "outputs": [
    {
     "name": "stdout",
     "output_type": "stream",
     "text": [
      "TRAIN set explained variance score:  0.4259562158149808\n",
      "TRAIN set max error:  458.8870295527021\n",
      "TRAIN set mean absolute error:  52.483962552379815\n",
      "TRAIN set root mean squared error:  70.48183008781785\n",
      "TRAIN set median absolute error:  42.31683474547436\n",
      "TRAIN set r2 score:  0.4259562158149808\n",
      "TRAIN set mean_absolute percentage error :  162123940833959.66\n",
      "\n",
      "TEST set explained variance score:  0.42434842744271983\n",
      "TEST set max error:  349.298441302116\n",
      "TEST set mean absolute error:  52.15155477995522\n",
      "TEST set root mean squared error:  69.74294897549916\n",
      "TEST set median absolute error:  41.69689346382427\n",
      "TEST set r2 score:  0.42390787687287623\n",
      "TEST set mean_absolute percentage error :  0.4881039666429797\n",
      "\n"
     ]
    }
   ],
   "source": [
    "dict_score = print_regression_scores(rm, x_train, y_train, x_test, y_test)"
   ]
  },
  {
   "cell_type": "markdown",
   "id": "collective-commodity",
   "metadata": {},
   "source": [
    "### 5. SVR"
   ]
  },
  {
   "cell_type": "code",
   "execution_count": 10,
   "id": "baking-psychology",
   "metadata": {},
   "outputs": [
    {
     "data": {
      "text/plain": [
       "0.37133056264850284"
      ]
     },
     "execution_count": 10,
     "metadata": {},
     "output_type": "execute_result"
    }
   ],
   "source": [
    "svr_linear = SVR(kernel='linear')\n",
    "svr_linear_reg = svr_linear.fit(x_train,y_train)\n",
    "svr_linear_reg.score(x_test, y_test)"
   ]
  },
  {
   "cell_type": "code",
   "execution_count": 11,
   "id": "divine-hepatitis",
   "metadata": {},
   "outputs": [
    {
     "name": "stdout",
     "output_type": "stream",
     "text": [
      "TRAIN set explained variance score:  0.39846709370479916\n",
      "TRAIN set max error:  464.1919413733709\n",
      "TRAIN set mean absolute error:  50.80467167099904\n",
      "TRAIN set root mean squared error:  74.89192816988928\n",
      "TRAIN set median absolute error:  33.785387096766335\n",
      "TRAIN set r2 score:  0.3518721274760055\n",
      "TRAIN set mean_absolute percentage error :  137656908333501.27\n",
      "\n",
      "TEST set explained variance score:  0.41104364218574563\n",
      "TEST set max error:  346.62294151577515\n",
      "TEST set mean absolute error:  49.1644391187091\n",
      "TEST set root mean squared error:  72.85603164142091\n",
      "TEST set median absolute error:  31.540175292183676\n",
      "TEST set r2 score:  0.37133056264850284\n",
      "TEST set mean_absolute percentage error :  0.39043576420764514\n",
      "\n"
     ]
    }
   ],
   "source": [
    "dict_score = print_regression_scores(svr_linear, x_train, y_train, x_test, y_test)"
   ]
  },
  {
   "cell_type": "code",
   "execution_count": 14,
   "id": "hawaiian-lodge",
   "metadata": {},
   "outputs": [
    {
     "data": {
      "text/plain": [
       "0.07979650528753257"
      ]
     },
     "execution_count": 14,
     "metadata": {},
     "output_type": "execute_result"
    }
   ],
   "source": [
    "svr_poly = SVR(kernel='poly')\n",
    "svr_poly_reg = svr_poly.fit(x_train,y_train)\n",
    "svr_poly_reg.score(x_test, y_test)"
   ]
  },
  {
   "cell_type": "code",
   "execution_count": 15,
   "id": "known-amazon",
   "metadata": {},
   "outputs": [
    {
     "name": "stdout",
     "output_type": "stream",
     "text": [
      "TRAIN set explained variance score:  0.14460695902352838\n",
      "TRAIN set max error:  382.5152907647169\n",
      "TRAIN set mean absolute error:  63.438578568674494\n",
      "TRAIN set root mean squared error:  89.35008427306221\n",
      "TRAIN set median absolute error:  46.625986308315404\n",
      "TRAIN set r2 score:  0.07746976785757531\n",
      "TRAIN set mean_absolute percentage error :  92561636635289.06\n",
      "\n",
      "TEST set explained variance score:  0.14374671273247053\n",
      "TEST set max error:  374.8934846262342\n",
      "TEST set mean absolute error:  63.63532926956606\n",
      "TEST set root mean squared error:  88.14471491267511\n",
      "TEST set median absolute error:  47.87149039954281\n",
      "TEST set r2 score:  0.07979650528753257\n",
      "TEST set mean_absolute percentage error :  0.6129086425000494\n",
      "\n"
     ]
    }
   ],
   "source": [
    "dict_score = print_regression_scores(svr_poly, x_train, y_train, x_test, y_test)"
   ]
  },
  {
   "cell_type": "markdown",
   "id": "acting-excellence",
   "metadata": {},
   "source": [
    "### 6. RandomForest Regressor"
   ]
  },
  {
   "cell_type": "code",
   "execution_count": 12,
   "id": "conscious-adaptation",
   "metadata": {},
   "outputs": [
    {
     "data": {
      "text/plain": [
       "0.6144167918410821"
      ]
     },
     "execution_count": 12,
     "metadata": {},
     "output_type": "execute_result"
    }
   ],
   "source": [
    "rfr = RandomForestRegressor(max_depth=10, random_state=0)\n",
    "rfr_reg = rfr.fit(x_train,y_train)\n",
    "rfr_reg.score(x_test, y_test)"
   ]
  },
  {
   "cell_type": "code",
   "execution_count": 13,
   "id": "practical-knitting",
   "metadata": {},
   "outputs": [
    {
     "name": "stdout",
     "output_type": "stream",
     "text": [
      "TRAIN set explained variance score:  0.7575451069736288\n",
      "TRAIN set max error:  262.58763656049086\n",
      "TRAIN set mean absolute error:  32.31988915988531\n",
      "TRAIN set root mean squared error:  45.806134102026874\n",
      "TRAIN set median absolute error:  22.61587988996699\n",
      "TRAIN set r2 score:  0.7575411981174218\n",
      "TRAIN set mean_absolute percentage error :  149948378560821.4\n",
      "\n",
      "TEST set explained variance score:  0.6144183227762298\n",
      "TEST set max error:  318.9079047777512\n",
      "TEST set mean absolute error:  39.34745094438191\n",
      "TEST set root mean squared error:  57.05758613599761\n",
      "TEST set median absolute error:  26.44838926429648\n",
      "TEST set r2 score:  0.6144167918410821\n",
      "TEST set mean_absolute percentage error :  0.3357111253461821\n",
      "\n"
     ]
    }
   ],
   "source": [
    "dict_score = print_regression_scores(rfr, x_train, y_train, x_test, y_test)"
   ]
  },
  {
   "cell_type": "markdown",
   "id": "incident-dividend",
   "metadata": {},
   "source": [
    "### Logistic regression"
   ]
  },
  {
   "cell_type": "markdown",
   "id": "filled-diesel",
   "metadata": {},
   "source": [
    "with l2 penalty"
   ]
  },
  {
   "cell_type": "code",
   "execution_count": 22,
   "id": "fewer-validation",
   "metadata": {},
   "outputs": [
    {
     "name": "stderr",
     "output_type": "stream",
     "text": [
      "C:\\Users\\john\\anaconda3\\lib\\site-packages\\sklearn\\linear_model\\_logistic.py:763: ConvergenceWarning: lbfgs failed to converge (status=1):\n",
      "STOP: TOTAL NO. of ITERATIONS REACHED LIMIT.\n",
      "\n",
      "Increase the number of iterations (max_iter) or scale the data as shown in:\n",
      "    https://scikit-learn.org/stable/modules/preprocessing.html\n",
      "Please also refer to the documentation for alternative solver options:\n",
      "    https://scikit-learn.org/stable/modules/linear_model.html#logistic-regression\n",
      "  n_iter_i = _check_optimize_result(\n"
     ]
    },
    {
     "data": {
      "text/plain": [
       "0.08132726089785296"
      ]
     },
     "execution_count": 22,
     "metadata": {},
     "output_type": "execute_result"
    }
   ],
   "source": [
    "# These models can be trained by GridSearchCV to get an ideas of the performance\n",
    "# But it takes a while to train these models, so I am just breaking them to see the results\n",
    "# as each model is trained \n",
    "\n",
    "\n",
    "lgr_l2 = LogisticRegression()\n",
    "\n",
    "# param_grid = {'penalty': ['none', 'l1', 'l2', 'elasticnet']}\n",
    "\n",
    "# clf = GridSearchCV(lgr, param_grid=param_grid, scoring='r2', n_jobs=1, cv=5)\n",
    "lgr_l2_reg = lgr_l2.fit(x_train, y_train)\n",
    "lgr_l2_reg.score(x_test, y_test)"
   ]
  },
  {
   "cell_type": "code",
   "execution_count": 23,
   "id": "incorporated-compatibility",
   "metadata": {},
   "outputs": [
    {
     "name": "stdout",
     "output_type": "stream",
     "text": [
      "TRAIN set explained variance score:  0.24503470924519732\n",
      "TRAIN set max error:  450\n",
      "TRAIN set mean absolute error:  51.939492517892\n",
      "TRAIN set root mean squared error:  81.55744071100173\n",
      "TRAIN set median absolute error:  28.0\n",
      "TRAIN set r2 score:  0.2313690773386775\n",
      "TRAIN set mean_absolute percentage error :  146506168749853.84\n",
      "\n",
      "TEST set explained variance score:  0.21465417432272937\n",
      "TEST set max error:  391\n",
      "TEST set mean absolute error:  53.47234873129473\n",
      "TEST set root mean squared error:  82.02909412927517\n",
      "TEST set median absolute error:  30.0\n",
      "TEST set r2 score:  0.20305719432387248\n",
      "TEST set mean_absolute percentage error :  0.4009693243029781\n",
      "\n"
     ]
    },
    {
     "data": {
      "text/plain": [
       "{'TRAIN set': [0.24503470924519732,\n",
       "  450,\n",
       "  51.939492517892,\n",
       "  81.55744071100173,\n",
       "  28.0,\n",
       "  0.2313690773386775,\n",
       "  146506168749853.84],\n",
       " 'TEST set': [0.21465417432272937,\n",
       "  391,\n",
       "  53.47234873129473,\n",
       "  82.02909412927517,\n",
       "  30.0,\n",
       "  0.20305719432387248,\n",
       "  0.4009693243029781]}"
      ]
     },
     "execution_count": 23,
     "metadata": {},
     "output_type": "execute_result"
    }
   ],
   "source": [
    "print_regression_scores(lgr_l2_reg, x_train, y_train, x_test, y_test)"
   ]
  },
  {
   "cell_type": "markdown",
   "id": "confused-memphis",
   "metadata": {},
   "source": [
    "With no penalty"
   ]
  },
  {
   "cell_type": "code",
   "execution_count": null,
   "id": "indonesian-building",
   "metadata": {},
   "outputs": [],
   "source": [
    "lgr = LogisticRegression(penalty='none', max_iter=1000, solver='saga')\n",
    "\n",
    "# param_grid = {'penalty': ['none', 'l1', 'l2', 'elasticnet']}\n",
    "\n",
    "# clf = GridSearchCV(lgr, param_grid=param_grid, scoring='r2', n_jobs=1, cv=5)\n",
    "lgr_reg = lgr.fit(x_train, y_train)\n",
    "lgr_reg.score(x_test, y_test)"
   ]
  },
  {
   "cell_type": "code",
   "execution_count": null,
   "id": "sealed-mason",
   "metadata": {},
   "outputs": [],
   "source": [
    "print_regression_scores(lgr_reg, x_train, y_train, x_test, y_test)"
   ]
  },
  {
   "cell_type": "markdown",
   "id": "direct-albuquerque",
   "metadata": {},
   "source": [
    "With l1 penalty"
   ]
  },
  {
   "cell_type": "code",
   "execution_count": null,
   "id": "confirmed-check",
   "metadata": {},
   "outputs": [],
   "source": [
    "lgr_l1 = LogisticRegression(penalty='l1', max_iter=1000, solver='liblinear')\n",
    "\n",
    "# param_grid = {'penalty': ['none', 'l1', 'l2', 'elasticnet']}\n",
    "\n",
    "# clf = GridSearchCV(lgr, param_grid=param_grid, scoring='r2', n_jobs=1, cv=5)\n",
    "lgr_l1_reg = lgr_l1.fit(x_train, y_train)\n",
    "lgr_l1_reg.score(x_test, y_test)"
   ]
  },
  {
   "cell_type": "code",
   "execution_count": null,
   "id": "announced-berkeley",
   "metadata": {},
   "outputs": [],
   "source": [
    "print_regression_scores(lgr_l1reg, x_train, y_train, x_test, y_test)"
   ]
  },
  {
   "cell_type": "code",
   "execution_count": null,
   "id": "brief-environment",
   "metadata": {},
   "outputs": [],
   "source": []
  },
  {
   "cell_type": "markdown",
   "id": "incident-possibility",
   "metadata": {},
   "source": [
    "with Elasticnet (both l1 and l2)"
   ]
  },
  {
   "cell_type": "code",
   "execution_count": null,
   "id": "dried-engineering",
   "metadata": {},
   "outputs": [],
   "source": [
    "lgr_l1 = LogisticRegression(penalty='l1', max_iter=1000, solver='saga')\n",
    "\n",
    "# param_grid = {'penalty': ['none', 'l1', 'l2', 'elasticnet']}\n",
    "\n",
    "# clf = GridSearchCV(lgr, param_grid=param_grid, scoring='r2', n_jobs=1, cv=5)\n",
    "lgr_l1_reg = lgr_l1.fit(x_train, y_train)\n",
    "lgr_l1_reg.score(x_test, y_test)"
   ]
  },
  {
   "cell_type": "code",
   "execution_count": null,
   "id": "handy-improvement",
   "metadata": {},
   "outputs": [],
   "source": [
    "# https://scikit-learn.org/stable/modules/generated/sklearn.linear_model.SGDRegressor.html#sklearn.linear_model.SGDRegressor"
   ]
  }
 ],
 "metadata": {
  "kernelspec": {
   "display_name": "Python 3",
   "language": "python",
   "name": "python3"
  },
  "language_info": {
   "codemirror_mode": {
    "name": "ipython",
    "version": 3
   },
   "file_extension": ".py",
   "mimetype": "text/x-python",
   "name": "python",
   "nbconvert_exporter": "python",
   "pygments_lexer": "ipython3",
   "version": "3.8.8"
  }
 },
 "nbformat": 4,
 "nbformat_minor": 5
}
