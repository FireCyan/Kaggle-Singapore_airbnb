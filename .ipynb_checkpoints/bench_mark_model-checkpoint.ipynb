{
 "cells": [
  {
   "cell_type": "code",
   "execution_count": 1,
   "id": "alpine-bobby",
   "metadata": {},
   "outputs": [
    {
     "data": {
      "text/html": [
       "        <script type=\"text/javascript\">\n",
       "        window.PlotlyConfig = {MathJaxConfig: 'local'};\n",
       "        if (window.MathJax) {MathJax.Hub.Config({SVG: {font: \"STIX-Web\"}});}\n",
       "        if (typeof require !== 'undefined') {\n",
       "        require.undef(\"plotly\");\n",
       "        requirejs.config({\n",
       "            paths: {\n",
       "                'plotly': ['https://cdn.plot.ly/plotly-latest.min']\n",
       "            }\n",
       "        });\n",
       "        require(['plotly'], function(Plotly) {\n",
       "            window._Plotly = Plotly;\n",
       "        });\n",
       "        }\n",
       "        </script>\n",
       "        "
      ]
     },
     "metadata": {},
     "output_type": "display_data"
    }
   ],
   "source": [
    "# Dataframe\n",
    "import numpy as np\n",
    "import pandas as pd\n",
    "from math import sqrt\n",
    "\n",
    "# Preprocessing\n",
    "import category_encoders as ce\n",
    "\n",
    "# Visualization\n",
    "import seaborn as sns\n",
    "import matplotlib.pyplot as plt\n",
    "%matplotlib inline\n",
    "import plotly.offline as py\n",
    "from plotly.offline import init_notebook_mode, iplot\n",
    "import plotly.graph_objs as go\n",
    "from plotly import tools\n",
    "init_notebook_mode(connected=True)  \n",
    "import plotly.figure_factory as ff\n",
    "sns.set_style(\"whitegrid\")\n",
    "\n",
    "# Outlier Detection\n",
    "from scipy import stats\n",
    "\n",
    "# Sklearn utilities\n",
    "from sklearn.model_selection import train_test_split\n",
    "from sklearn.preprocessing import StandardScaler\n",
    "from sklearn.metrics import mean_squared_error\n",
    "from sklearn.metrics import r2_score\n",
    "from sklearn.preprocessing import LabelEncoder\n",
    "from sklearn.metrics import mean_absolute_error\n",
    "from sklearn.inspection import permutation_importance\n",
    "\n",
    "# Regression model\n",
    "from catboost import Pool, CatBoostRegressor, cv\n",
    "from catboost.utils import eval_metric\n",
    "\n"
   ]
  },
  {
   "cell_type": "code",
   "execution_count": 2,
   "id": "continent-alert",
   "metadata": {},
   "outputs": [],
   "source": [
    "df = pd.read_csv('listings.csv')"
   ]
  },
  {
   "cell_type": "code",
   "execution_count": 3,
   "id": "amino-issue",
   "metadata": {},
   "outputs": [
    {
     "data": {
      "text/plain": [
       "name                    2\n",
       "last_review          2758\n",
       "reviews_per_month    2758\n",
       "dtype: int64"
      ]
     },
     "execution_count": 3,
     "metadata": {},
     "output_type": "execute_result"
    }
   ],
   "source": [
    "null_value_stats = df.isnull().sum()\n",
    "null_value_stats[null_value_stats != 0]"
   ]
  },
  {
   "cell_type": "code",
   "execution_count": 4,
   "id": "suitable-graduate",
   "metadata": {},
   "outputs": [],
   "source": [
    "\n",
    "\n",
    "# Unecessary features to predict price\n",
    "df.drop(['name','id','host_name', 'host_id', 'last_review'], inplace=True, axis=1)\n",
    "\n",
    "# Impute missing values to 0\n",
    "df[\"reviews_per_month\"] = df[\"reviews_per_month\"].fillna(0)\n",
    "\n"
   ]
  },
  {
   "cell_type": "code",
   "execution_count": 5,
   "id": "little-compact",
   "metadata": {},
   "outputs": [],
   "source": [
    "\n",
    "\n",
    "# Specify all numeric features for outlier detection\n",
    "numeric_features = ['latitude','longitude','price',\n",
    "                    'minimum_nights','number_of_reviews',\n",
    "                    'calculated_host_listings_count','availability_365']\n",
    "\n"
   ]
  },
  {
   "cell_type": "code",
   "execution_count": 6,
   "id": "african-parking",
   "metadata": {},
   "outputs": [],
   "source": [
    "\n",
    "\n",
    "# Remove outlier from target value (price)\n",
    "outlier = (np.abs(stats.zscore(df[\"price\"]))<0.7)\n",
    "outlier_ix = np.where(outlier==False)\n",
    "df.drop(index=outlier_ix[0], inplace=True)\n",
    "\n"
   ]
  },
  {
   "cell_type": "code",
   "execution_count": 7,
   "id": "fatal-container",
   "metadata": {},
   "outputs": [
    {
     "name": "stdout",
     "output_type": "stream",
     "text": [
      "171\n"
     ]
    }
   ],
   "source": [
    "\n",
    "\n",
    "outliers = [] \n",
    "\n",
    "# Check outliers using zscore\n",
    "for lat in df['latitude']:\n",
    "    zscore = (lat - np.mean(df['latitude'])) / np.std(df['latitude'])\n",
    "    if zscore > 3:\n",
    "        outliers.append(lat)\n",
    "        \n",
    "print(len(outliers))\n",
    "\n"
   ]
  },
  {
   "cell_type": "code",
   "execution_count": 8,
   "id": "offensive-wisconsin",
   "metadata": {},
   "outputs": [],
   "source": [
    "df_cleaned = df.replace(outliers, np.median(df['latitude']))"
   ]
  },
  {
   "cell_type": "code",
   "execution_count": 9,
   "id": "reduced-navigation",
   "metadata": {},
   "outputs": [],
   "source": [
    "df_cleaned = df[df['minimum_nights'] <= 365]"
   ]
  },
  {
   "cell_type": "code",
   "execution_count": 10,
   "id": "static-scroll",
   "metadata": {},
   "outputs": [],
   "source": [
    "room_dict ={\n",
    "    'Entire home/apt': 1,\n",
    "    'Private room': 2,\n",
    "    'Shared room': 3\n",
    "}\n",
    "\n",
    "df_cleaned['room_type'] = df_cleaned['room_type'].map(room_dict)"
   ]
  },
  {
   "cell_type": "code",
   "execution_count": 11,
   "id": "armed-ethics",
   "metadata": {},
   "outputs": [
    {
     "name": "stderr",
     "output_type": "stream",
     "text": [
      "C:\\Users\\john\\anaconda3\\lib\\site-packages\\category_encoders\\utils.py:21: FutureWarning:\n",
      "\n",
      "is_categorical is deprecated and will be removed in a future version.  Use is_categorical_dtype instead\n",
      "\n"
     ]
    }
   ],
   "source": [
    "\n",
    "\n",
    "# Binary encoding for neighbourhood\n",
    "binary = ce.BinaryEncoder(cols=['neighbourhood'])\n",
    "df_cleaned = binary.fit_transform(df_cleaned)\n",
    "\n"
   ]
  },
  {
   "cell_type": "code",
   "execution_count": 40,
   "id": "regional-tuition",
   "metadata": {},
   "outputs": [],
   "source": [
    "\n",
    "\n",
    "# Specify features and target values\n",
    "X = df_cleaned.iloc[:,[0,1,2,3,4,5,6,7,8,9,10,12,13,14,15]].values\n",
    "y = df_cleaned.iloc[:,11:12].values\n",
    "\n"
   ]
  },
  {
   "cell_type": "code",
   "execution_count": 41,
   "id": "national-slovakia",
   "metadata": {},
   "outputs": [],
   "source": [
    "label = LabelEncoder()\n",
    "X[:,0] = label.fit_transform(X[:,0])"
   ]
  },
  {
   "cell_type": "code",
   "execution_count": 42,
   "id": "seventh-circulation",
   "metadata": {},
   "outputs": [],
   "source": [
    "\n",
    "\n",
    "# Split model into 80% training and 20% testing\n",
    "X_train, X_test, y_train, y_test = train_test_split(X, y, test_size=0.2, random_state = 42)\n",
    "\n",
    "# Utilize pooling from Catboost\n",
    "train_pool = Pool(X_train, y_train) \n",
    "test_pool = Pool(X_test, y_test)\n",
    "\n"
   ]
  },
  {
   "cell_type": "code",
   "execution_count": 43,
   "id": "governing-guest",
   "metadata": {},
   "outputs": [],
   "source": [
    "\n",
    "\n",
    "# Specify hyperparameters for the model\n",
    "params = {\n",
    "    'iterations': 6000,\n",
    "    'learning_rate': 0.002,\n",
    "    'random_seed': 42,\n",
    "    'logging_level': 'Silent',\n",
    "    'early_stopping_rounds': 500\n",
    "}\n",
    "\n"
   ]
  },
  {
   "cell_type": "code",
   "execution_count": 44,
   "id": "promotional-latin",
   "metadata": {},
   "outputs": [],
   "source": [
    "\n",
    "\n",
    "# Define regression model using the specified hyperparameters\n",
    "model = CatBoostRegressor(**params)\n",
    "\n"
   ]
  },
  {
   "cell_type": "code",
   "execution_count": 45,
   "id": "double-native",
   "metadata": {},
   "outputs": [
    {
     "name": "stderr",
     "output_type": "stream",
     "text": [
      "Custom logger is already specified. Specify more than one logger at same time is not thread safe."
     ]
    },
    {
     "data": {
      "application/vnd.jupyter.widget-view+json": {
       "model_id": "15eae3fc56b047b5962a9a85889bc26c",
       "version_major": 2,
       "version_minor": 0
      },
      "text/plain": [
       "MetricVisualizer(layout=Layout(align_self='stretch', height='500px'))"
      ]
     },
     "metadata": {},
     "output_type": "display_data"
    },
    {
     "data": {
      "text/plain": [
       "<catboost.core.CatBoostRegressor at 0x1ea405a1a60>"
      ]
     },
     "execution_count": 45,
     "metadata": {},
     "output_type": "execute_result"
    }
   ],
   "source": [
    "\n",
    "\n",
    "# Train the model and check plot its training data\n",
    "model.fit(\n",
    "    train_pool, \n",
    "    eval_set=test_pool, \n",
    "    verbose=False, \n",
    "    plot=True\n",
    ")\n",
    "\n"
   ]
  },
  {
   "cell_type": "code",
   "execution_count": 47,
   "id": "threaded-perfume",
   "metadata": {},
   "outputs": [
    {
     "name": "stdout",
     "output_type": "stream",
     "text": [
      "MAE: 38.32246931980263\n",
      "RMSE: 53.30700611276851\n",
      "MSE: 2841.6369007067397\n",
      "R2: 0.6102152219767978\n"
     ]
    }
   ],
   "source": [
    "preds = model.predict(X_test)\n",
    "mae = mean_absolute_error(y_test, preds)\n",
    "mse = mean_squared_error(y_test, preds)\n",
    "rmse = sqrt(mean_squared_error(y_test, preds))\n",
    "r2 = r2_score(y_test, preds)\n",
    "\n",
    "print(\"MAE: \" + str(mae))\n",
    "print(\"RMSE: \" + str(rmse))\n",
    "print(\"MSE: \" + str(mse))\n",
    "print(\"R2: \" + str(r2))"
   ]
  },
  {
   "cell_type": "code",
   "execution_count": null,
   "id": "committed-cover",
   "metadata": {},
   "outputs": [],
   "source": []
  }
 ],
 "metadata": {
  "kernelspec": {
   "display_name": "Python 3",
   "language": "python",
   "name": "python3"
  },
  "language_info": {
   "codemirror_mode": {
    "name": "ipython",
    "version": 3
   },
   "file_extension": ".py",
   "mimetype": "text/x-python",
   "name": "python",
   "nbconvert_exporter": "python",
   "pygments_lexer": "ipython3",
   "version": "3.8.8"
  }
 },
 "nbformat": 4,
 "nbformat_minor": 5
}
