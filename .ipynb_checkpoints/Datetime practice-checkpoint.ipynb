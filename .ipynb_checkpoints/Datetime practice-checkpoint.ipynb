{
 "cells": [
  {
   "cell_type": "markdown",
   "metadata": {},
   "source": [
    "## This Jupyter notebook is to quickly revise and test my skills with the module datatime"
   ]
  },
  {
   "cell_type": "code",
   "execution_count": 3,
   "metadata": {},
   "outputs": [
    {
     "name": "stdout",
     "output_type": "stream",
     "text": [
      "2010-01-01 00:00:00\n",
      "2000-01-31 00:00:00\n",
      "1996-10-10 22:40:00\n"
     ]
    }
   ],
   "source": [
    "# The website that provides the practice questions\n",
    "# https://www.machinelearningplus.com/python/datetime-python-examples/\n",
    "\n",
    "from datetime import datetime\n",
    "from datetime import date\n",
    "from dateutil.parser import parse\n",
    "\n",
    "\n",
    "# Input\n",
    "s1 = \"2010 Jan 1\"\n",
    "s2 = '31-1-2000' \n",
    "s3 = 'October10, 1996, 10:40pm'\n",
    "\n",
    "# Deisred Output\n",
    "#> 2010-01-01 00:00:00\n",
    "#> 2000-01-31 00:00:00\n",
    "#> 2019-10-10 22:40:00\n",
    "\n",
    "s1_out = parse(s1)\n",
    "s2_out = parse(s2)\n",
    "s3_out = parse(s3)\n",
    "\n",
    "print(s1_out)\n",
    "print(s2_out)\n",
    "print(s3_out)"
   ]
  },
  {
   "cell_type": "code",
   "execution_count": 10,
   "metadata": {},
   "outputs": [
    {
     "name": "stdout",
     "output_type": "stream",
     "text": [
      "54847\n"
     ]
    }
   ],
   "source": [
    "# Input\n",
    "bday = 'Oct 2, 1869'  # use bday\n",
    "\n",
    "today = datetime.now()\n",
    "\n",
    "bday_parse = parse(bday)\n",
    "date_diff = today - bday_parse\n",
    "\n",
    "print(date_diff.days)"
   ]
  },
  {
   "cell_type": "code",
   "execution_count": 26,
   "metadata": {},
   "outputs": [
    {
     "name": "stdout",
     "output_type": "stream",
     "text": [
      "Number of Satudays:  40\n"
     ]
    }
   ],
   "source": [
    "import datetime\n",
    "\n",
    "d1 = date(1869, 1, 2)\n",
    "d2 = date(1869, 10, 2)\n",
    "\n",
    "date_diff = d2 - d1\n",
    "# print(date_diff.days)\n",
    "\n",
    "dates_between_d1d2 = [(d1 + datetime.timedelta(i)) for i in range(date_diff.days + 1)]\n",
    "# print(dates_between_d1d2)\n",
    "\n",
    "sat_days = 0\n",
    "for d in dates_between_d1d2:\n",
    "#     print(d)\n",
    "    if int(d.isoweekday())==6:\n",
    "        sat_days+=1\n",
    "\n",
    "print('Number of Satudays: ', sat_days)"
   ]
  },
  {
   "cell_type": "code",
   "execution_count": 39,
   "metadata": {},
   "outputs": [
    {
     "name": "stdout",
     "output_type": "stream",
     "text": [
      "52\n"
     ]
    }
   ],
   "source": [
    "# Input\n",
    "bday = 'Jan 23, 1990'  # use b'day\n",
    "bday_parsed = parse(bday)\n",
    "# mybday = datetime('1990','1','23')\n",
    "today = datetime.date.today()\n",
    "\n",
    "bday_date = datetime.date(year = today.year, month = bday_parsed.month, day = bday_parsed.day)\n",
    "\n",
    "if today > bday_date:\n",
    "    day_diff = 365 - (today - bday_date).days\n",
    "else:\n",
    "    day_diff = (bday_date - today).days\n",
    "print(day_diff)"
   ]
  },
  {
   "cell_type": "code",
   "execution_count": 48,
   "metadata": {},
   "outputs": [
    {
     "name": "stdout",
     "output_type": "stream",
     "text": [
      "[8, 5, 5, 3]\n"
     ]
    }
   ],
   "source": [
    "date_list = ['Oct, 2, 1869', 'Oct, 10, 1869', 'Oct, 15, 1869', 'Oct, 20, 1869', 'Oct, 23, 1869']\n",
    "\n",
    "# non-np way\n",
    "# day_diff_list = []\n",
    "\n",
    "# for ind, d in enumerate(date_list):\n",
    "#     if ind != 0:\n",
    "#         prev_dparse = parse(date_list[ind-1])\n",
    "#         curr_dparse = parse(d)\n",
    "        \n",
    "#         day_diff_list.append((curr_dparse - prev_dparse).days)\n",
    "\n",
    "# print(day_diff_list)\n",
    "\n",
    "# np-way\n",
    "import numpy as np\n",
    "date_parse = [parse(d) for d in date_list]\n",
    "\n",
    "print([d.days for d in np.diff(date_parse)])"
   ]
  },
  {
   "cell_type": "code",
   "execution_count": 61,
   "metadata": {},
   "outputs": [
    {
     "name": "stdout",
     "output_type": "stream",
     "text": [
      "26265600.0\n"
     ]
    }
   ],
   "source": [
    "import datetime\n",
    "bdate = datetime.date(1869, 10, 2)\n",
    "today = datetime.date.today()\n",
    "bdate_this_yr = datetime.date(today.year, bdate.month, bdate.day)\n",
    "\n",
    "\n",
    "if bdate_this_yr > today:\n",
    "    day_diff = bdate_this_yr - today\n",
    "else:\n",
    "    day_diff = datetime.timedelta(days = 365 - (today - bdate_this_yr).days)\n",
    "\n",
    "sec_diff = day_diff.seconds\n",
    "print(day_diff.total_seconds())"
   ]
  },
  {
   "cell_type": "code",
   "execution_count": 67,
   "metadata": {},
   "outputs": [
    {
     "name": "stdout",
     "output_type": "stream",
     "text": [
      "1869-10-02 00:00:00\n"
     ]
    }
   ],
   "source": [
    "import datetime\n",
    "date = datetime.date(1869, 10, 2)\n",
    "\n",
    "# Bad way\n",
    "# datetime = datetime.datetime(year=date.year, month=date.month, day=date.day, hour=0, minute=0, second=0)\n",
    "\n",
    "# Easy and built-in way\n",
    "temp_datetime = datetime.datetime.combine(date, datetime.datetime.min.time())\n",
    "print(temp_datetime)"
   ]
  },
  {
   "cell_type": "code",
   "execution_count": 74,
   "metadata": {},
   "outputs": [
    {
     "name": "stdout",
     "output_type": "stream",
     "text": [
      "(3, 31)\n"
     ]
    }
   ],
   "source": [
    "import datetime\n",
    "dt = datetime.date(1952, 2, 12)\n",
    "\n",
    "import calendar\n",
    "\n",
    "print(calendar.monthrange(dt.year, dt.month))"
   ]
  },
  {
   "cell_type": "code",
   "execution_count": 92,
   "metadata": {},
   "outputs": [
    {
     "name": "stdout",
     "output_type": "stream",
     "text": [
      "4\n"
     ]
    }
   ],
   "source": [
    "# how many sundays in Feb 1948\n",
    "\n",
    "# Get Feb 1948 day ranges\n",
    "feb_1948_days = calendar.monthrange(1948, 2)[1]\n",
    "feb_1948_first = datetime.date(year=1948, month=2, day=1)\n",
    "# feb_1948_last = datetime.date(year=1948, month=2, day=feb_1948_days)\n",
    "date_range = [feb_1948_first + datetime.timedelta(i) for i in range(1, feb_1948_days + 1)]\n",
    "\n",
    "count = 0\n",
    "\n",
    "for d in date_range:\n",
    "    if d.isoweekday() == 7:\n",
    "        count+=1\n",
    "print(count)"
   ]
  },
  {
   "cell_type": "code",
   "execution_count": 97,
   "metadata": {},
   "outputs": [
    {
     "name": "stdout",
     "output_type": "stream",
     "text": [
      "Sep-28, 2010\n"
     ]
    }
   ],
   "source": [
    "import datetime\n",
    "d1 = parse('2010-09-28')\n",
    "\n",
    "print(d1.strftime('%b-%d, %Y'))"
   ]
  },
  {
   "cell_type": "code",
   "execution_count": 103,
   "metadata": {},
   "outputs": [
    {
     "name": "stdout",
     "output_type": "stream",
     "text": [
      "2010-Q3\n"
     ]
    }
   ],
   "source": [
    "import datetime\n",
    "d1 = datetime.datetime(2010, 9, 28, 10, 40, 59)\n",
    "\n",
    "print(d1.strftime('%Y-Q{}'.format(d1.month//4+ 1)))"
   ]
  },
  {
   "cell_type": "code",
   "execution_count": 106,
   "metadata": {},
   "outputs": [
    {
     "name": "stdout",
     "output_type": "stream",
     "text": [
      "04-October-1986\n"
     ]
    }
   ],
   "source": [
    "unixtimestamp = 528756281\n",
    "\n",
    "date_conv = datetime.datetime.fromtimestamp(unixtimestamp)\n",
    "print(date_conv.strftime('%d-%B-%Y'))"
   ]
  },
  {
   "cell_type": "code",
   "execution_count": 109,
   "metadata": {},
   "outputs": [
    {
     "name": "stdout",
     "output_type": "stream",
     "text": [
      "2001-01-30 23:41:00+05:30\n"
     ]
    }
   ],
   "source": [
    "import datetime\n",
    "import pytz\n",
    "dt_in = datetime.datetime(2001, 1, 31, 3, 30, 0, 0, tzinfo=pytz.timezone('Asia/Tokyo'))\n",
    "kolkata_timezone = pytz.timezone('Asia/Kolkata')\n",
    "dt_in_kolkata = dt_in.astimezone(kolkata_timezone)\n",
    "print(dt_in_kolkata)"
   ]
  },
  {
   "cell_type": "code",
   "execution_count": 119,
   "metadata": {},
   "outputs": [
    {
     "name": "stdout",
     "output_type": "stream",
     "text": [
      "['Oct 03, 1869', 'Oct 04, 1869', 'Oct 05, 1869', 'Oct 06, 1869', 'Oct 07, 1869', 'Oct 08, 1869', 'Oct 09, 1869']\n"
     ]
    }
   ],
   "source": [
    "# Input\n",
    "date_missing = ['Oct 2, 1869', 'Oct 5, 1869', 'Oct 7, 1869', 'Oct 9, 1869']\n",
    "\n",
    "date_missing = [parse(d) for d in date_missing]\n",
    "\n",
    "# Or use min/max to find the min and max dates for diff\n",
    "\n",
    "date_diff = (date_missing[-1] - date_missing[0]).days\n",
    "\n",
    "# print(date_missing[0])\n",
    "\n",
    "date_full = [(date_missing[0] + datetime.timedelta(days=i)).strftime('%b %d, %Y') for i in range(1, date_diff + 1)]\n",
    "\n",
    "print(date_full)"
   ]
  },
  {
   "cell_type": "code",
   "execution_count": null,
   "metadata": {},
   "outputs": [],
   "source": []
  }
 ],
 "metadata": {
  "kernelspec": {
   "display_name": "Python 3",
   "language": "python",
   "name": "python3"
  },
  "language_info": {
   "codemirror_mode": {
    "name": "ipython",
    "version": 3
   },
   "file_extension": ".py",
   "mimetype": "text/x-python",
   "name": "python",
   "nbconvert_exporter": "python",
   "pygments_lexer": "ipython3",
   "version": "3.6.4"
  }
 },
 "nbformat": 4,
 "nbformat_minor": 2
}
